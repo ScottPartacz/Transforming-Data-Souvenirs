{
 "cells": [
  {
   "cell_type": "code",
   "execution_count": 8,
   "metadata": {},
   "outputs": [],
   "source": [
    "import pandas as pd\n",
    "import json\n",
    "from zipfile import ZipFile\n",
    "\n",
    "zip_file = ZipFile(\"souvenir.zip\")\n",
    "\n",
    "category = pd.read_csv(zip_file.open(\"category.csv\"))\n",
    "city = pd.read_csv(zip_file.open(\"city.csv\"))\n",
    "country = pd.read_csv(zip_file.open(\"country.csv\"))\n",
    "location = pd.read_csv(zip_file.open(\"location.csv\"))\n",
    "owner = pd.read_csv(zip_file.open(\"owner.csv\"))\n",
    "region = pd.read_csv(zip_file.open(\"region.csv\"))\n",
    "souvenir = pd.read_csv(zip_file.open(\"souvenir.csv\"))\n"
   ]
  },
  {
   "cell_type": "code",
   "execution_count": 9,
   "metadata": {},
   "outputs": [],
   "source": [
    "souvenir[\"LocationID\"] = souvenir[\"ItemDescription\"]\n",
    "\n",
    "souvenir = souvenir.drop([\"ItemDescription\"], axis=1)\n",
    "\n",
    "souvenir = souvenir.dropna()\n",
    "\n",
    "souvenirjson = souvenir.to_json()\n",
    "\n",
    "with open(\"souvenir.json\",\"w\") as file:\n",
    "\n",
    "    file = json.dump(souvenirjson,file)\n",
    "\n",
    "owners = souvenir[\"OwnerID\"].unique()\n",
    "\n",
    "for x in owners:\n",
    "    \n",
    "    temp_csv = souvenir[souvenir[\"OwnerID\"] == x]\n",
    "\n",
    "    temp_csv.to_csv(str(x) + \".csv\") "
   ]
  }
 ],
 "metadata": {
  "interpreter": {
   "hash": "aab2652dd422b8952e87837d88345d2dc429e222c6ab5d96b6e49515aa907270"
  },
  "kernelspec": {
   "display_name": "Python 3.9.7 64-bit ('base': conda)",
   "language": "python",
   "name": "python3"
  },
  "language_info": {
   "codemirror_mode": {
    "name": "ipython",
    "version": 3
   },
   "file_extension": ".py",
   "mimetype": "text/x-python",
   "name": "python",
   "nbconvert_exporter": "python",
   "pygments_lexer": "ipython3",
   "version": "3.9.7"
  },
  "orig_nbformat": 4
 },
 "nbformat": 4,
 "nbformat_minor": 2
}
