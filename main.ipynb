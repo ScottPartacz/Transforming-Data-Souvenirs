{
 "cells": [
  {
   "cell_type": "code",
   "execution_count": null,
   "metadata": {},
   "outputs": [],
   "source": [
    "import pandas as pd\n",
    "import json\n",
    "\n",
    "category = pd.read_csv(\"category.csv\")\n",
    "city = pd.read_csv(\"city.csv\")\n",
    "country = pd.read_csv(\"country.csv\")\n",
    "location = pd.read_csv(\"location.csv\")\n",
    "owner = pd.read_csv(\"owner.csv\")\n",
    "region = pd.read_csv(\"region.csv\")\n",
    "souvenir = pd.read_csv(\"souvenir.csv\")"
   ]
  },
  {
   "cell_type": "code",
   "execution_count": null,
   "metadata": {},
   "outputs": [],
   "source": [
    "souvenir[\"LocationID\"] = souvenir[\"ItemDescription\"]\n",
    "\n",
    "souvenir = souvenir.drop([\"ItemDescription\"], axis=1)\n",
    "\n",
    "souvenir = souvenir.dropna()\n",
    "\n",
    "souvenirjson = souvenir.to_json()\n",
    "\n",
    "with open(\"souvenir.json\",\"w\") as file:\n",
    "\n",
    "    file = json.dump(souvenirjson,file)\n",
    "\n",
    "owners = souvenir[\"OwnerID\"].unique()\n",
    "\n",
    "for x in owners:\n",
    "    \n",
    "    temp_csv = souvenir[souvenir[\"OwnerID\"] == x]\n",
    "\n",
    "    temp_csv.to_csv(str(x) + \".csv\") "
   ]
  }
 ],
 "metadata": {
  "language_info": {
   "name": "python"
  },
  "orig_nbformat": 4
 },
 "nbformat": 4,
 "nbformat_minor": 2
}
